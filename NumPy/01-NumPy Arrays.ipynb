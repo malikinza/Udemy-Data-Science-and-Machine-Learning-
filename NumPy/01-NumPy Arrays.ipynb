{
  "cells": [
    {
      "cell_type": "markdown",
      "metadata": {
        "id": "WAskNTaoXi1z"
      },
      "source": [
        "___\n",
        "\n",
        "<a href='http://www.pieriandata.com'> <img src='https://github.com/malikinza/Udemy-Data-Science-and-Machine-Learning-/blob/main/Pierian_Data_Logo.png?raw=1' /></a>\n",
        "___"
      ]
    },
    {
      "cell_type": "markdown",
      "metadata": {
        "id": "N1SA4bn-Xi14"
      },
      "source": [
        "# NumPy \n",
        "\n",
        "NumPy (or Numpy) is a Linear Algebra Library for Python, the reason it is so important for Data Science with Python is that almost all of the libraries in the PyData Ecosystem rely on NumPy as one of their main building blocks.\n",
        "\n",
        "Numpy is also incredibly fast, as it has bindings to C libraries. For more info on why you would want to use Arrays instead of lists, check out this great [StackOverflow post](http://stackoverflow.com/questions/993984/why-numpy-instead-of-python-lists).\n",
        "\n",
        "We will only learn the basics of NumPy, to get started we need to install it!"
      ]
    },
    {
      "cell_type": "markdown",
      "metadata": {
        "id": "5e4ItBwqXi15"
      },
      "source": [
        "## Installation Instructions\n",
        "\n",
        "**It is highly recommended you install Python using the Anaconda distribution to make sure all underlying dependencies (such as Linear Algebra libraries) all sync up with the use of a conda install. If you have Anaconda, install NumPy by going to your terminal or command prompt and typing:**\n",
        "    \n",
        "    conda install numpy\n",
        "    \n",
        "**If you do not have Anaconda and can not install it, please refer to [Numpy's official documentation on various installation instructions.](http://docs.scipy.org/doc/numpy-1.10.1/user/install.html)**"
      ]
    },
    {
      "cell_type": "markdown",
      "metadata": {
        "id": "gZR3dGakXi15"
      },
      "source": [
        "## Using NumPy\n",
        "\n",
        "Once you've installed NumPy you can import it as a library:"
      ]
    },
    {
      "cell_type": "code",
      "execution_count": null,
      "metadata": {
        "collapsed": true,
        "id": "wsjjVCG-Xi16"
      },
      "outputs": [],
      "source": [
        "import numpy as np"
      ]
    },
    {
      "cell_type": "markdown",
      "metadata": {
        "id": "RZGccWtLXi17"
      },
      "source": [
        "Numpy has many built-in functions and capabilities. We won't cover them all but instead we will focus on some of the most important aspects of Numpy: vectors,arrays,matrices, and number generation. Let's start by discussing arrays.\n",
        "\n",
        "# Numpy Arrays\n",
        "\n",
        "NumPy arrays are the main way we will use Numpy throughout the course. Numpy arrays essentially come in two flavors: vectors and matrices. Vectors are strictly 1-d arrays and matrices are 2-d (but you should note a matrix can still have only one row or one column).\n",
        "\n",
        "Let's begin our introduction by exploring how to create NumPy arrays.\n",
        "\n",
        "## Creating NumPy Arrays\n",
        "\n",
        "### From a Python List\n",
        "\n",
        "We can create an array by directly converting a list or list of lists:"
      ]
    },
    {
      "cell_type": "code",
      "execution_count": null,
      "metadata": {
        "id": "7EDTuSYPXi18",
        "outputId": "b3fdaa61-9a60-4af9-8149-d07e76161110"
      },
      "outputs": [
        {
          "data": {
            "text/plain": [
              "[1, 2, 3]"
            ]
          },
          "execution_count": 19,
          "metadata": {},
          "output_type": "execute_result"
        }
      ],
      "source": [
        "my_list = [1,2,3]\n",
        "my_list"
      ]
    },
    {
      "cell_type": "code",
      "execution_count": null,
      "metadata": {
        "id": "C1xfLLciXi19",
        "outputId": "5b7a889f-ca77-4b7c-a634-17e23687cc3d"
      },
      "outputs": [
        {
          "data": {
            "text/plain": [
              "array([1, 2, 3])"
            ]
          },
          "execution_count": 16,
          "metadata": {},
          "output_type": "execute_result"
        }
      ],
      "source": [
        "np.array(my_list)"
      ]
    },
    {
      "cell_type": "code",
      "execution_count": null,
      "metadata": {
        "id": "YGmFQjgrXi1-",
        "outputId": "ee0c2662-03e2-414d-8dad-34ae311c4a9a"
      },
      "outputs": [
        {
          "data": {
            "text/plain": [
              "[[1, 2, 3], [4, 5, 6], [7, 8, 9]]"
            ]
          },
          "execution_count": 20,
          "metadata": {},
          "output_type": "execute_result"
        }
      ],
      "source": [
        "my_matrix = [[1,2,3],[4,5,6],[7,8,9]]\n",
        "my_matrix"
      ]
    },
    {
      "cell_type": "code",
      "execution_count": null,
      "metadata": {
        "id": "E6vlz7IzXi1_",
        "outputId": "e3487883-7143-4493-fdc8-37e597054612"
      },
      "outputs": [
        {
          "data": {
            "text/plain": [
              "array([[1, 2, 3],\n",
              "       [4, 5, 6],\n",
              "       [7, 8, 9]])"
            ]
          },
          "execution_count": 21,
          "metadata": {},
          "output_type": "execute_result"
        }
      ],
      "source": [
        "np.array(my_matrix)"
      ]
    },
    {
      "cell_type": "markdown",
      "metadata": {
        "id": "u749h4HCXi2A"
      },
      "source": [
        "## Built-in Methods\n",
        "\n",
        "There are lots of built-in ways to generate Arrays"
      ]
    },
    {
      "cell_type": "markdown",
      "metadata": {
        "id": "GwiV_5LeXi2B"
      },
      "source": [
        "### arange\n",
        "\n",
        "Return evenly spaced values within a given interval."
      ]
    },
    {
      "cell_type": "code",
      "execution_count": null,
      "metadata": {
        "id": "H3_yb2WEXi2C",
        "outputId": "d988270f-5dfa-483f-de8c-f8dba7224e66"
      },
      "outputs": [
        {
          "data": {
            "text/plain": [
              "array([0, 1, 2, 3, 4, 5, 6, 7, 8, 9])"
            ]
          },
          "execution_count": 22,
          "metadata": {},
          "output_type": "execute_result"
        }
      ],
      "source": [
        "np.arange(0,10)"
      ]
    },
    {
      "cell_type": "code",
      "execution_count": null,
      "metadata": {
        "id": "dBWlLf4AXi2D",
        "outputId": "8ab67b4b-ef5f-402f-967d-dc2e75a10a74"
      },
      "outputs": [
        {
          "data": {
            "text/plain": [
              "array([ 0,  2,  4,  6,  8, 10])"
            ]
          },
          "execution_count": 23,
          "metadata": {},
          "output_type": "execute_result"
        }
      ],
      "source": [
        "np.arange(0,11,2)"
      ]
    },
    {
      "cell_type": "markdown",
      "metadata": {
        "id": "gRMnnbMuXi2E"
      },
      "source": [
        "### zeros and ones\n",
        "\n",
        "Generate arrays of zeros or ones"
      ]
    },
    {
      "cell_type": "code",
      "source": [
        ""
      ],
      "metadata": {
        "id": "0dsbpVq8Xo2B"
      },
      "execution_count": null,
      "outputs": []
    },
    {
      "cell_type": "code",
      "source": [
        "aaaaaaaaaaaaaaaaaaaaaa"
      ],
      "metadata": {
        "id": "hCmDlGykXnb7"
      },
      "execution_count": null,
      "outputs": []
    },
    {
      "cell_type": "code",
      "execution_count": null,
      "metadata": {
        "id": "FjZUKrYAXi2E",
        "outputId": "d7a8e5ec-b848-49f5-88ad-bb590d5cc915"
      },
      "outputs": [
        {
          "data": {
            "text/plain": [
              "array([ 0.,  0.,  0.])"
            ]
          },
          "execution_count": 24,
          "metadata": {},
          "output_type": "execute_result"
        }
      ],
      "source": [
        "np.zeros(3)"
      ]
    },
    {
      "cell_type": "code",
      "execution_count": null,
      "metadata": {
        "id": "oFAn_rBgXi2E",
        "outputId": "b4943e88-0cd2-4b67-b96e-1b7f0c694c53"
      },
      "outputs": [
        {
          "data": {
            "text/plain": [
              "array([[ 0.,  0.,  0.,  0.,  0.],\n",
              "       [ 0.,  0.,  0.,  0.,  0.],\n",
              "       [ 0.,  0.,  0.,  0.,  0.],\n",
              "       [ 0.,  0.,  0.,  0.,  0.],\n",
              "       [ 0.,  0.,  0.,  0.,  0.]])"
            ]
          },
          "execution_count": 26,
          "metadata": {},
          "output_type": "execute_result"
        }
      ],
      "source": [
        "np.zeros((5,5))"
      ]
    },
    {
      "cell_type": "code",
      "execution_count": null,
      "metadata": {
        "id": "ByQYXm-gXi2F",
        "outputId": "1ede66ed-d595-4fed-bfb0-8682a8013a39"
      },
      "outputs": [
        {
          "data": {
            "text/plain": [
              "array([ 1.,  1.,  1.])"
            ]
          },
          "execution_count": 27,
          "metadata": {},
          "output_type": "execute_result"
        }
      ],
      "source": [
        "np.ones(3)"
      ]
    },
    {
      "cell_type": "code",
      "execution_count": null,
      "metadata": {
        "id": "M34y_rYRXi2F",
        "outputId": "876e91c5-09d8-49b7-89c8-2bdd8b7a252f"
      },
      "outputs": [
        {
          "data": {
            "text/plain": [
              "array([[ 1.,  1.,  1.],\n",
              "       [ 1.,  1.,  1.],\n",
              "       [ 1.,  1.,  1.]])"
            ]
          },
          "execution_count": 28,
          "metadata": {},
          "output_type": "execute_result"
        }
      ],
      "source": [
        "np.ones((3,3))"
      ]
    },
    {
      "cell_type": "markdown",
      "metadata": {
        "id": "NWARl3t1Xi2G"
      },
      "source": [
        "### linspace\n",
        "Return evenly spaced numbers over a specified interval."
      ]
    },
    {
      "cell_type": "code",
      "execution_count": null,
      "metadata": {
        "id": "YspDYpQnXi2G",
        "outputId": "83b1668a-e65e-4263-c76d-7ad8046b7115"
      },
      "outputs": [
        {
          "data": {
            "text/plain": [
              "array([  0.,   5.,  10.])"
            ]
          },
          "execution_count": 29,
          "metadata": {},
          "output_type": "execute_result"
        }
      ],
      "source": [
        "np.linspace(0,10,3)"
      ]
    },
    {
      "cell_type": "code",
      "execution_count": null,
      "metadata": {
        "id": "ynDLv9qKXi2G",
        "outputId": "0f5ed2b0-76cf-4a96-cdbc-08fdcc9a55c4"
      },
      "outputs": [
        {
          "data": {
            "text/plain": [
              "array([  0.        ,   0.20408163,   0.40816327,   0.6122449 ,\n",
              "         0.81632653,   1.02040816,   1.2244898 ,   1.42857143,\n",
              "         1.63265306,   1.83673469,   2.04081633,   2.24489796,\n",
              "         2.44897959,   2.65306122,   2.85714286,   3.06122449,\n",
              "         3.26530612,   3.46938776,   3.67346939,   3.87755102,\n",
              "         4.08163265,   4.28571429,   4.48979592,   4.69387755,\n",
              "         4.89795918,   5.10204082,   5.30612245,   5.51020408,\n",
              "         5.71428571,   5.91836735,   6.12244898,   6.32653061,\n",
              "         6.53061224,   6.73469388,   6.93877551,   7.14285714,\n",
              "         7.34693878,   7.55102041,   7.75510204,   7.95918367,\n",
              "         8.16326531,   8.36734694,   8.57142857,   8.7755102 ,\n",
              "         8.97959184,   9.18367347,   9.3877551 ,   9.59183673,\n",
              "         9.79591837,  10.        ])"
            ]
          },
          "execution_count": 31,
          "metadata": {},
          "output_type": "execute_result"
        }
      ],
      "source": [
        "np.linspace(0,10,50)"
      ]
    },
    {
      "cell_type": "markdown",
      "metadata": {
        "id": "TDGD88O4Xi2G"
      },
      "source": [
        "## eye\n",
        "\n",
        "Creates an identity matrix"
      ]
    },
    {
      "cell_type": "code",
      "execution_count": null,
      "metadata": {
        "id": "EvxXyOQLXi2H",
        "outputId": "a7f2661d-4905-4aad-ae73-485c75f7c1c4"
      },
      "outputs": [
        {
          "data": {
            "text/plain": [
              "array([[ 1.,  0.,  0.,  0.],\n",
              "       [ 0.,  1.,  0.,  0.],\n",
              "       [ 0.,  0.,  1.,  0.],\n",
              "       [ 0.,  0.,  0.,  1.]])"
            ]
          },
          "execution_count": 37,
          "metadata": {},
          "output_type": "execute_result"
        }
      ],
      "source": [
        "np.eye(4)"
      ]
    },
    {
      "cell_type": "markdown",
      "metadata": {
        "id": "VQABUKbmXi2H"
      },
      "source": [
        "## Random \n",
        "\n",
        "Numpy also has lots of ways to create random number arrays:\n",
        "\n",
        "### rand\n",
        "Create an array of the given shape and populate it with\n",
        "random samples from a uniform distribution\n",
        "over ``[0, 1)``."
      ]
    },
    {
      "cell_type": "code",
      "execution_count": null,
      "metadata": {
        "id": "oqy14xXeXi2H",
        "outputId": "d2494745-8376-4ab4-d815-44acd8a5582b"
      },
      "outputs": [
        {
          "data": {
            "text/plain": [
              "array([ 0.11570539,  0.35279769])"
            ]
          },
          "execution_count": 47,
          "metadata": {},
          "output_type": "execute_result"
        }
      ],
      "source": [
        "np.random.rand(2)"
      ]
    },
    {
      "cell_type": "code",
      "execution_count": null,
      "metadata": {
        "id": "FBeis3etXi2I",
        "outputId": "76660b0a-000f-41f1-c25b-baf3317a1475"
      },
      "outputs": [
        {
          "data": {
            "text/plain": [
              "array([[ 0.66660768,  0.87589888,  0.12421056,  0.65074126,  0.60260888],\n",
              "       [ 0.70027668,  0.85572434,  0.8464595 ,  0.2735416 ,  0.10955384],\n",
              "       [ 0.0670566 ,  0.83267738,  0.9082729 ,  0.58249129,  0.12305748],\n",
              "       [ 0.27948423,  0.66422017,  0.95639833,  0.34238788,  0.9578872 ],\n",
              "       [ 0.72155386,  0.3035422 ,  0.85249683,  0.30414307,  0.79718816]])"
            ]
          },
          "execution_count": 46,
          "metadata": {},
          "output_type": "execute_result"
        }
      ],
      "source": [
        "np.random.rand(5,5)"
      ]
    },
    {
      "cell_type": "markdown",
      "metadata": {
        "id": "TSHTO8S3Xi2I"
      },
      "source": [
        "### randn\n",
        "\n",
        "Return a sample (or samples) from the \"standard normal\" distribution. Unlike rand which is uniform:"
      ]
    },
    {
      "cell_type": "code",
      "execution_count": null,
      "metadata": {
        "id": "4w7qK3wrXi2I",
        "outputId": "fd987739-19f2-4367-ae9d-93f1ab9b36be"
      },
      "outputs": [
        {
          "data": {
            "text/plain": [
              "array([-0.27954018,  0.90078368])"
            ]
          },
          "execution_count": 48,
          "metadata": {},
          "output_type": "execute_result"
        }
      ],
      "source": [
        "np.random.randn(2)"
      ]
    },
    {
      "cell_type": "code",
      "execution_count": null,
      "metadata": {
        "id": "NJQiy3uOXi2I",
        "outputId": "9d1c3375-e706-475d-c001-fd241955dea3"
      },
      "outputs": [
        {
          "data": {
            "text/plain": [
              "array([[ 0.70154515,  0.22441999,  1.33563186,  0.82872577, -0.28247509],\n",
              "       [ 0.64489788,  0.61815094, -0.81693168, -0.30102424, -0.29030574],\n",
              "       [ 0.8695976 ,  0.413755  ,  2.20047208,  0.17955692, -0.82159344],\n",
              "       [ 0.59264235,  1.29869894, -1.18870241,  0.11590888, -0.09181687],\n",
              "       [-0.96924265, -1.62888685, -2.05787102, -0.29705576,  0.68915542]])"
            ]
          },
          "execution_count": 45,
          "metadata": {},
          "output_type": "execute_result"
        }
      ],
      "source": [
        "np.random.randn(5,5)"
      ]
    },
    {
      "cell_type": "markdown",
      "metadata": {
        "id": "60vzHKuYXi2I"
      },
      "source": [
        "### randint\n",
        "Return random integers from `low` (inclusive) to `high` (exclusive)."
      ]
    },
    {
      "cell_type": "code",
      "execution_count": null,
      "metadata": {
        "id": "GqyUcYXjXi2J",
        "outputId": "abb01af1-d560-4414-e8ca-a2d636b20d46"
      },
      "outputs": [
        {
          "data": {
            "text/plain": [
              "44"
            ]
          },
          "execution_count": 50,
          "metadata": {},
          "output_type": "execute_result"
        }
      ],
      "source": [
        "np.random.randint(1,100)"
      ]
    },
    {
      "cell_type": "code",
      "execution_count": null,
      "metadata": {
        "id": "lG9K0RtnXi2J",
        "outputId": "6be44680-0e7a-44da-a349-4a285ce72690"
      },
      "outputs": [
        {
          "data": {
            "text/plain": [
              "array([13, 64, 27, 63, 46, 68, 92, 10, 58, 24])"
            ]
          },
          "execution_count": 51,
          "metadata": {},
          "output_type": "execute_result"
        }
      ],
      "source": [
        "np.random.randint(1,100,10)"
      ]
    },
    {
      "cell_type": "markdown",
      "metadata": {
        "id": "S_Aff9wcXi2J"
      },
      "source": [
        "## Array Attributes and Methods\n",
        "\n",
        "Let's discuss some useful attributes and methods or an array:"
      ]
    },
    {
      "cell_type": "code",
      "execution_count": null,
      "metadata": {
        "collapsed": true,
        "id": "srkWL0OhXi2J"
      },
      "outputs": [],
      "source": [
        "arr = np.arange(25)\n",
        "ranarr = np.random.randint(0,50,10)"
      ]
    },
    {
      "cell_type": "code",
      "execution_count": null,
      "metadata": {
        "id": "vgc5rI1VXi2J",
        "outputId": "8d50ae64-1807-47f7-836b-c9d7c2f9c6f9"
      },
      "outputs": [
        {
          "data": {
            "text/plain": [
              "array([ 0,  1,  2,  3,  4,  5,  6,  7,  8,  9, 10, 11, 12, 13, 14, 15, 16,\n",
              "       17, 18, 19, 20, 21, 22, 23, 24])"
            ]
          },
          "execution_count": 56,
          "metadata": {},
          "output_type": "execute_result"
        }
      ],
      "source": [
        "arr"
      ]
    },
    {
      "cell_type": "code",
      "execution_count": null,
      "metadata": {
        "id": "KIM5HwG9Xi2K",
        "outputId": "f9163786-6299-4531-9aaa-1a16a1513728"
      },
      "outputs": [
        {
          "data": {
            "text/plain": [
              "array([10, 12, 41, 17, 49,  2, 46,  3, 19, 39])"
            ]
          },
          "execution_count": 57,
          "metadata": {},
          "output_type": "execute_result"
        }
      ],
      "source": [
        "ranarr"
      ]
    },
    {
      "cell_type": "markdown",
      "metadata": {
        "id": "g-vgXy46Xi2K"
      },
      "source": [
        "## Reshape\n",
        "Returns an array containing the same data with a new shape."
      ]
    },
    {
      "cell_type": "code",
      "execution_count": null,
      "metadata": {
        "id": "5iWWuwRjXi2K",
        "outputId": "de82ade5-4a90-42a1-e1ad-1e92fd2de8cd"
      },
      "outputs": [
        {
          "data": {
            "text/plain": [
              "array([[ 0,  1,  2,  3,  4],\n",
              "       [ 5,  6,  7,  8,  9],\n",
              "       [10, 11, 12, 13, 14],\n",
              "       [15, 16, 17, 18, 19],\n",
              "       [20, 21, 22, 23, 24]])"
            ]
          },
          "execution_count": 54,
          "metadata": {},
          "output_type": "execute_result"
        }
      ],
      "source": [
        "arr.reshape(5,5)"
      ]
    },
    {
      "cell_type": "markdown",
      "metadata": {
        "id": "lXX7HbwVXi2K"
      },
      "source": [
        "### max,min,argmax,argmin\n",
        "\n",
        "These are useful methods for finding max or min values. Or to find their index locations using argmin or argmax"
      ]
    },
    {
      "cell_type": "code",
      "execution_count": null,
      "metadata": {
        "id": "3ANHd1TLXi2K",
        "outputId": "8e165780-b71c-4a47-fc35-d31c61f0e797"
      },
      "outputs": [
        {
          "data": {
            "text/plain": [
              "array([10, 12, 41, 17, 49,  2, 46,  3, 19, 39])"
            ]
          },
          "execution_count": 64,
          "metadata": {},
          "output_type": "execute_result"
        }
      ],
      "source": [
        "ranarr"
      ]
    },
    {
      "cell_type": "code",
      "execution_count": null,
      "metadata": {
        "id": "UWZsMr0fXi2L",
        "outputId": "1b3367ff-ed54-4ba5-c3dc-19b95bd8cc96"
      },
      "outputs": [
        {
          "data": {
            "text/plain": [
              "49"
            ]
          },
          "execution_count": 61,
          "metadata": {},
          "output_type": "execute_result"
        }
      ],
      "source": [
        "ranarr.max()"
      ]
    },
    {
      "cell_type": "code",
      "execution_count": null,
      "metadata": {
        "id": "3cTTkMhTXi2L",
        "outputId": "4f6068c9-8886-48d7-cd84-1ea19d43cc5a"
      },
      "outputs": [
        {
          "data": {
            "text/plain": [
              "4"
            ]
          },
          "execution_count": 62,
          "metadata": {},
          "output_type": "execute_result"
        }
      ],
      "source": [
        "ranarr.argmax()"
      ]
    },
    {
      "cell_type": "code",
      "execution_count": null,
      "metadata": {
        "id": "On2AoTSdXi2L",
        "outputId": "22ecf3d0-cf1f-4dcd-b553-28b4428325cd"
      },
      "outputs": [
        {
          "data": {
            "text/plain": [
              "2"
            ]
          },
          "execution_count": 63,
          "metadata": {},
          "output_type": "execute_result"
        }
      ],
      "source": [
        "ranarr.min()"
      ]
    },
    {
      "cell_type": "code",
      "execution_count": null,
      "metadata": {
        "id": "13JJdvgTXi2L",
        "outputId": "b382b671-e9c0-417b-bfc5-af99e76d2264"
      },
      "outputs": [
        {
          "data": {
            "text/plain": [
              "5"
            ]
          },
          "execution_count": 60,
          "metadata": {},
          "output_type": "execute_result"
        }
      ],
      "source": [
        "ranarr.argmin()"
      ]
    },
    {
      "cell_type": "markdown",
      "metadata": {
        "id": "P0VjDzHkXi2L"
      },
      "source": [
        "## Shape\n",
        "\n",
        "Shape is an attribute that arrays have (not a method):"
      ]
    },
    {
      "cell_type": "code",
      "execution_count": null,
      "metadata": {
        "id": "sNTp9r--Xi2M",
        "outputId": "6d5d0425-16bb-40b0-c9df-c952581b9284"
      },
      "outputs": [
        {
          "data": {
            "text/plain": [
              "(25,)"
            ]
          },
          "execution_count": 65,
          "metadata": {},
          "output_type": "execute_result"
        }
      ],
      "source": [
        "# Vector\n",
        "arr.shape"
      ]
    },
    {
      "cell_type": "code",
      "execution_count": null,
      "metadata": {
        "id": "g6hWPP3BXi2M",
        "outputId": "ce2ff6f3-af8e-4000-8f5e-445974f11c79"
      },
      "outputs": [
        {
          "data": {
            "text/plain": [
              "array([[ 0,  1,  2,  3,  4,  5,  6,  7,  8,  9, 10, 11, 12, 13, 14, 15, 16,\n",
              "        17, 18, 19, 20, 21, 22, 23, 24]])"
            ]
          },
          "execution_count": 66,
          "metadata": {},
          "output_type": "execute_result"
        }
      ],
      "source": [
        "# Notice the two sets of brackets\n",
        "arr.reshape(1,25)"
      ]
    },
    {
      "cell_type": "code",
      "execution_count": null,
      "metadata": {
        "id": "QsOxxzJEXi2M",
        "outputId": "4dcb4245-ad99-4947-8e6e-d82d53f5f184"
      },
      "outputs": [
        {
          "data": {
            "text/plain": [
              "(1, 25)"
            ]
          },
          "execution_count": 69,
          "metadata": {},
          "output_type": "execute_result"
        }
      ],
      "source": [
        "arr.reshape(1,25).shape"
      ]
    },
    {
      "cell_type": "code",
      "execution_count": null,
      "metadata": {
        "id": "1S8t5oYuXi2M",
        "outputId": "d9d6b08c-00e3-4294-a63b-be6f42b1d0c4"
      },
      "outputs": [
        {
          "data": {
            "text/plain": [
              "array([[ 0],\n",
              "       [ 1],\n",
              "       [ 2],\n",
              "       [ 3],\n",
              "       [ 4],\n",
              "       [ 5],\n",
              "       [ 6],\n",
              "       [ 7],\n",
              "       [ 8],\n",
              "       [ 9],\n",
              "       [10],\n",
              "       [11],\n",
              "       [12],\n",
              "       [13],\n",
              "       [14],\n",
              "       [15],\n",
              "       [16],\n",
              "       [17],\n",
              "       [18],\n",
              "       [19],\n",
              "       [20],\n",
              "       [21],\n",
              "       [22],\n",
              "       [23],\n",
              "       [24]])"
            ]
          },
          "execution_count": 70,
          "metadata": {},
          "output_type": "execute_result"
        }
      ],
      "source": [
        "arr.reshape(25,1)"
      ]
    },
    {
      "cell_type": "code",
      "execution_count": null,
      "metadata": {
        "id": "JCyPgDuDXi2M",
        "outputId": "f6e566c0-cfdf-48a6-8beb-f09213bf90f1"
      },
      "outputs": [
        {
          "data": {
            "text/plain": [
              "(25, 1)"
            ]
          },
          "execution_count": 76,
          "metadata": {},
          "output_type": "execute_result"
        }
      ],
      "source": [
        "arr.reshape(25,1).shape"
      ]
    },
    {
      "cell_type": "markdown",
      "metadata": {
        "id": "5Aq_saZgXi2N"
      },
      "source": [
        "### dtype\n",
        "\n",
        "You can also grab the data type of the object in the array:"
      ]
    },
    {
      "cell_type": "code",
      "execution_count": null,
      "metadata": {
        "id": "ikvzKLf8Xi2N",
        "outputId": "fdf2a488-7947-434b-e1f5-34289e321176"
      },
      "outputs": [
        {
          "data": {
            "text/plain": [
              "dtype('int64')"
            ]
          },
          "execution_count": 75,
          "metadata": {},
          "output_type": "execute_result"
        }
      ],
      "source": [
        "arr.dtype"
      ]
    },
    {
      "cell_type": "markdown",
      "metadata": {
        "id": "FlABa-5JXi2N"
      },
      "source": [
        "# Great Job!"
      ]
    }
  ],
  "metadata": {
    "kernelspec": {
      "display_name": "Python 3 (ipykernel)",
      "language": "python",
      "name": "python3"
    },
    "language_info": {
      "codemirror_mode": {
        "name": "ipython",
        "version": 3
      },
      "file_extension": ".py",
      "mimetype": "text/x-python",
      "name": "python",
      "nbconvert_exporter": "python",
      "pygments_lexer": "ipython3",
      "version": "3.9.7"
    },
    "colab": {
      "name": "01-NumPy Arrays.ipynb",
      "provenance": []
    }
  },
  "nbformat": 4,
  "nbformat_minor": 0
}