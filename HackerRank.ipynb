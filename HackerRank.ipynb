{
  "nbformat": 4,
  "nbformat_minor": 0,
  "metadata": {
    "colab": {
      "name": "HackerRank.ipynb",
      "provenance": [],
      "collapsed_sections": [],
      "authorship_tag": "ABX9TyNaiFF16xD1dkEppJVUYWH3",
      "include_colab_link": true
    },
    "kernelspec": {
      "name": "python3",
      "display_name": "Python 3"
    },
    "language_info": {
      "name": "python"
    }
  },
  "cells": [
    {
      "cell_type": "markdown",
      "metadata": {
        "id": "view-in-github",
        "colab_type": "text"
      },
      "source": [
        "<a href=\"https://colab.research.google.com/github/malikinza/Udemy-Data-Science-and-Machine-Learning-/blob/main/HackerRank.ipynb\" target=\"_parent\"><img src=\"https://colab.research.google.com/assets/colab-badge.svg\" alt=\"Open In Colab\"/></a>"
      ]
    },
    {
      "cell_type": "code",
      "execution_count": null,
      "metadata": {
        "id": "83Yc8BUWbgI2"
      },
      "outputs": [],
      "source": [
        "#PlusMinus Challenge\n",
        "\n",
        "#Given an array of integers, calculate the ratios of its elements that are positive, negative, and zero. \n",
        "#Print the decimal value of each fraction on a new line with  places after the decimal.\n",
        "\n",
        "def plusMinus(arr):\n",
        "    # Write your code here\n",
        "    pos = 0\n",
        "    neg = 0\n",
        "    zer = 0\n",
        "    for i in range(0,len(arr)):\n",
        "        if arr[i] == 0:\n",
        "            zer += 1\n",
        "        elif arr[i] < 0:\n",
        "            neg += 1\n",
        "        else:\n",
        "            pos += 1\n",
        "    print (\"{:.6f}\".format(pos/len(arr)))\n",
        "    print (\"{:.6f}\".format(neg/len(arr)))\n",
        "    print (\"{:.6f}\".format(zer/len(arr)))"
      ]
    }
  ]
}